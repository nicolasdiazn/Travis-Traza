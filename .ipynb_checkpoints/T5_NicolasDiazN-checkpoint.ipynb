{
 "cells": [
  {
   "cell_type": "markdown",
   "metadata": {},
   "source": [
    "# Tarea\n",
    "\n",
    "* Verificar que el estado de Bob antes de aprender los resultados de la medición de Alice, es equivalente a tener un estado $|0\\rangle$ o $|1\\rangle$ con igual probabilidad.\n",
    "* Hacer un script que verifique el la traza parcial de un estado aleatorio, tiene traza uno y es semipositiva. Ponerlo en forma de Travis CI. "
   ]
  },
  {
   "cell_type": "markdown",
   "metadata": {},
   "source": [
    "### Problema 1\n",
    "\\begin{equation}\n",
    "|\\psi_2 \\rangle = \\frac{1}{2}\\bigg[ |00\\rangle(\\alpha |0\\rangle + \\beta|1\\rangle)+|01\\rangle(\\alpha |1\\rangle + \\beta|0\\rangle)+|10\\rangle (\\alpha |0\\rangle - \\beta|1\\rangle)+|11\\rangle (\\alpha |1\\rangle - \\beta|0\\rangle)\\bigg]\n",
    "\\end{equation} \n",
    "De aquí, el operador densidad se convierte en\n",
    "\n",
    "\\begin{equation}\n",
    "\\begin{split}\n",
    "\\rho = \\frac{1}{4}\\bigg[|00\\rangle\\langle00|(\\alpha|0\\rangle+\\beta|1\\rangle)(\\alpha^*\\langle0|+\\beta^*|1\\langle) + \\\\\n",
    "+ |01\\rangle\\langle01|(\\alpha|1\\rangle+\\beta|0\\rangle)(\\alpha^*\\langle1|+\\beta^*|0\\langle) + \\\\\n",
    "+ |10\\rangle\\langle10|(\\alpha|0\\rangle-\\beta|1\\rangle)(\\alpha^*\\langle0|-\\beta^*|1\\langle) + \\\\\n",
    "+ |11\\rangle\\langle11|(\\alpha|1\\rangle-\\beta|0\\rangle)(\\alpha^*\\langle1|-\\beta^*|0\\langle)\\bigg]\n",
    "\\end{split}\n",
    "\\end{equation}\n",
    "\n",
    "Trazando ahora el sistema de Alice vemos que el operador de densidad reducido de Bob es:\n",
    "\\begin{equation}\n",
    "\\begin{split}\n",
    "\\rho^B = \\frac{1}{4}\\bigg[(\\alpha|0\\rangle+\\beta|1\\rangle)(\\alpha^*\\langle0|+\\beta^*|1\\langle) + \\\\\n",
    "+ (\\alpha|1\\rangle+\\beta|0\\rangle)(\\alpha^*\\langle1|+\\beta^*|0\\langle) + \\\\\n",
    "+ (\\alpha|0\\rangle-\\beta|1\\rangle)(\\alpha^*\\langle0|-\\beta^*|1\\langle) + \\\\\n",
    "+ (\\alpha|1\\rangle-\\beta|0\\rangle)(\\alpha^*\\langle1|-\\beta^*|0\\langle)\\bigg] \\\\\n",
    "= \\frac{2}{4}\\bigg[(|\\alpha|^2+|\\beta|^2)|0\\rangle \\langle 0|+(|\\alpha|^2+|\\beta|^2)|1\\rangle \\langle 1|\\bigg] = \\\\\n",
    "= \\frac{1}{2}\\bigg[\t|0\\rangle \\langle0|+|1\\rangle \\langle1|\\bigg] = \\frac{I}{2}\n",
    "\\end{split}\n",
    "\\end{equation}\n",
    "Así, el estado de Bob antes de conocer las mediciones, ya hechas por Alice, es $\\frac{I}{2}$. Lo anterior se refiere a que toda medición hecha por Bob no contendrá ninguna información sobre $|\\psi_2\\rangle$, previniendo que Alice use la teleportación para transmitir información más rápido que la velocidad de la luz. "
   ]
  },
  {
   "cell_type": "markdown",
   "metadata": {},
   "source": [
    "### Problema 2; traza parcial\n",
    "\n",
    "La traza parcial se define como la operación que me lleva \n",
    "$$\n",
    "\\text{tr}_B\n",
    "|a_1 b_1\\rangle\\langle a_2 b_2|=\\langle b_2|b_1\\rangle |a_1 \\rangle\\langle a_2|,\n",
    "$$\n",
    "y se extiende a todo el espacio requiriendo linealidad. Note que es una operación que va de un espacio de Hilbert a otro. \n",
    "\n",
    "Al aplicarla a una matriz de densidad de un sistema bipartita, obtenemos\n",
    "$$\n",
    "\\text{tr}_B \\rho =\n",
    "\\text{tr}_B \\sum_{ijkl} \\rho_{ij,kl}|ij\\rangle\\langle kl|=\n",
    "\\sum_{ijkl} \\rho_{ij,kl} |i\\rangle\\langle k| \\delta_{jl}=\n",
    "\\sum_{ijk} \\rho_{ij,kj} |i\\rangle\\langle k|.\n",
    "$$\n",
    "\n",
    "\n",
    "La _matriz de densidad reducida_ se define como \n",
    "$$\n",
    "\\rho_A =\\text{tr}_B \\rho_{AB}.\n",
    "$$\n",
    "Este es el estado del sistema si ignoramos el resto. Para ver esto, tenemos que ver que _todos_ los observables en $A$ los podemos calcular usando solo $\\rho_A$, y da lo mismo que usando $\\rho_{AB}$. En particular, lo que queremos comprobar es que \n",
    "\\begin{equation}\n",
    "\\text{tr} M\\rho_A = \n",
    "\\text{tr} (M\\otimes 1) \\rho_{AB}.\n",
    "\\end{equation}\n",
    "\n",
    "Entonces, calculemos expresiones explícitas, suponiendo que \n",
    "$$\n",
    "M=\\sum_{ik} m_{ik}|i\\rangle\\langle k|.\n",
    "$$\n",
    "Vamos a tener entonces que\n",
    "$$\n",
    "M\\otimes 1 =\\sum_{ijk} m_{ik}|ij\\rangle\\langle kj|.\n",
    "$$\n",
    "\n",
    "Calculemos entonces:\n",
    "\\begin{align}\n",
    "\\text{tr} M\\rho_A &=\n",
    "\\text{tr} \\sum_{i'k'ijk} m_{i'k'}|i'\\rangle\\langle k'| \\rho_{ij,kj}|i\\rangle\\langle k|\\\\\n",
    "&=\\text{tr} \\sum_{ijk} m_{ki} \\rho_{ij,kj}\n",
    "\\end{align}\n",
    "mientras que \n",
    "\\begin{align}\n",
    "\\text{tr} (M\\otimes 1) \\rho_{AB} &=\n",
    "\\text{tr} \\sum_{ijki'j'k'l'} m_{ik} |ij\\rangle \\langle kj| \\rho_{i'j',k'l'}|i'j'\\rangle\\langle k'l'|\\\\\n",
    "&=\\sum_{ijk} m_{ik}\\rho_{kj,ij}.\n",
    "\\end{align}\n",
    "Esta simplificación es muy útil. Si no hemos platicado suficiente de ella, debemos detenernos acá.\n"
   ]
  },
  {
   "cell_type": "code",
   "execution_count": 7,
   "metadata": {
    "collapsed": false
   },
   "outputs": [
    {
     "name": "stderr",
     "output_type": "stream",
     "text": [
      "WARNING: Method definition random_state() in module Main at In[1]:4 overwritten at In[7]:4.\n",
      "WARNING: Method definition random_state(Any) in module Main at In[1]:4 overwritten at In[7]:4.\n",
      "WARNING: Method definition partial_trace_pure_bipartite_mat(Any, Any, Any) in module Main at In[1]:14 overwritten at In[7]:14.\n",
      "WARNING: replacing docs for 'partial_trace_pure_bipartite_mat :: Tuple{Any,Any,Any}' in module 'Main'.\n"
     ]
    },
    {
     "data": {
      "text/plain": [
       "Test Passed\n",
       "  Expression: round(trace(partial_trace_pure_bipartite_mat(stateAB,2,1))) == 1\n",
       "   Evaluated: 1.0 + 0.0im == 1"
      ]
     },
     "execution_count": 7,
     "metadata": {},
     "output_type": "execute_result"
    }
   ],
   "source": [
    "using Base.Test\n",
    "\n",
    "function random_state(dim=2::Int)\n",
    "    v=randn(1,dim)+randn(1,dim)im\n",
    "    v=v/norm(v)\n",
    "    return v'\n",
    "end\n",
    "\n",
    "# Vectorizado\n",
    "\"\"\"\n",
    "Traza parcial \n",
    "\"\"\"\n",
    "function partial_trace_pure_bipartite_mat(state,dim,system)\n",
    "    dimtotal=length(state)[1]\n",
    "    dimcomp=Int(dimtotal/dim)\n",
    "    if system==1\n",
    "    psi=reshape(state,(dimcomp,dim))'\n",
    "        return psi*psi'\n",
    "        elseif system==2\n",
    "     psi=reshape(state,(dim,dimcomp))'\n",
    "        return psi'*psi\n",
    "    end\n",
    "end\n",
    "\n",
    "#Elaboramos los estados A y B, para luego utilizar la función kron con ellos.\n",
    "state_A=random_state(2)\n",
    "state_B=random_state(4)\n",
    "stateAB=kron(state_A,state_B);\n",
    "\n",
    "#Verificamos la tarea\n",
    "trace(partial_trace_pure_bipartite_mat(stateAB,2,1));\n",
    "\n",
    "@test round(trace(partial_trace_pure_bipartite_mat(stateAB,2,1)))==1"
   ]
  }
 ],
 "metadata": {
  "anaconda-cloud": {},
  "kernelspec": {
   "display_name": "Julia 0.5.0",
   "language": "julia",
   "name": "julia-0.5"
  },
  "language_info": {
   "file_extension": ".jl",
   "mimetype": "application/julia",
   "name": "julia",
   "version": "0.5.0"
  }
 },
 "nbformat": 4,
 "nbformat_minor": 0
}
